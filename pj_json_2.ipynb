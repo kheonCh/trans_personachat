{
 "metadata": {
  "language_info": {
   "codemirror_mode": {
    "name": "ipython",
    "version": 3
   },
   "file_extension": ".py",
   "mimetype": "text/x-python",
   "name": "python",
   "nbconvert_exporter": "python",
   "pygments_lexer": "ipython3",
   "version": "3.7.6-final"
  },
  "orig_nbformat": 2,
  "kernelspec": {
   "name": "samsung_200720",
   "display_name": "samsung_200720"
  }
 },
 "nbformat": 4,
 "nbformat_minor": 2,
 "cells": [
  {
   "cell_type": "code",
   "execution_count": 35,
   "metadata": {},
   "outputs": [
    {
     "output_type": "error",
     "ename": "NameError",
     "evalue": "name 'impor' is not defined",
     "traceback": [
      "\u001b[0;31m---------------------------------------------------------------------------\u001b[0m",
      "\u001b[0;31mNameError\u001b[0m                                 Traceback (most recent call last)",
      "\u001b[0;32m<ipython-input-35-079930c87074>\u001b[0m in \u001b[0;36m<module>\u001b[0;34m\u001b[0m\n\u001b[1;32m      2\u001b[0m \u001b[0;32mimport\u001b[0m \u001b[0mos\u001b[0m\u001b[0;34m\u001b[0m\u001b[0;34m\u001b[0m\u001b[0m\n\u001b[1;32m      3\u001b[0m \u001b[0;32mimport\u001b[0m \u001b[0mmath\u001b[0m\u001b[0;34m\u001b[0m\u001b[0;34m\u001b[0m\u001b[0m\n\u001b[0;32m----> 4\u001b[0;31m \u001b[0mimpor\u001b[0m\u001b[0;34m\u001b[0m\u001b[0;34m\u001b[0m\u001b[0m\n\u001b[0m",
      "\u001b[0;31mNameError\u001b[0m: name 'impor' is not defined"
     ]
    }
   ],
   "source": [
    "import json\n",
    "import os\n",
    "import math"
   ]
  },
  {
   "cell_type": "code",
   "execution_count": 36,
   "metadata": {},
   "outputs": [],
   "source": [
    "with open('personachat_self_original.json') as json_file:\n",
    "    json_data = json.load(json_file)"
   ]
  },
  {
   "cell_type": "code",
   "execution_count": 37,
   "metadata": {
    "tags": []
   },
   "outputs": [
    {
     "output_type": "stream",
     "name": "stdout",
     "text": "<class 'dict'>\n17878\n1000\n"
    }
   ],
   "source": [
    "    #print(json_data)\n",
    "    print(type(json_data))\n",
    "    #print(json_data['train'][0])\n",
    "    print(len(json_data['train']))\n",
    "    print(len(json_data['valid']))\n",
    "    #print(json_data[train])"
   ]
  },
  {
   "cell_type": "code",
   "execution_count": 38,
   "metadata": {
    "tags": []
   },
   "outputs": [
    {
     "output_type": "stream",
     "name": "stdout",
     "text": "train\nvalid\n"
    }
   ],
   "source": [
    "    # all\n",
    "    for key, value in json_data.items():\n",
    "        print(key)"
   ]
  },
  {
   "cell_type": "code",
   "execution_count": 39,
   "metadata": {
    "tags": []
   },
   "outputs": [
    {
     "output_type": "stream",
     "name": "stdout",
     "text": "<class 'dict'>\npersonality\nutterances\n"
    }
   ],
   "source": [
    "    # train\n",
    "    print(type(json_data['train'][0]))\n",
    "    for key, value in json_data['train'][0].items():\n",
    "        print(key)"
   ]
  },
  {
   "cell_type": "code",
   "execution_count": 40,
   "metadata": {
    "tags": []
   },
   "outputs": [
    {
     "output_type": "stream",
     "name": "stdout",
     "text": "<class 'list'>\n0 : i like to remodel homes .\n1 : i like to go hunting .\n2 : i like to shoot a bow .\n3 : my favorite holiday is halloween .\n"
    }
   ],
   "source": [
    "    # personality\n",
    "    print(type(json_data['train'][0]['personality']))    \n",
    "    for index, string in enumerate(json_data['train'][0]['personality']):\n",
    "            print('%d : %s' % (index, string))"
   ]
  },
  {
   "cell_type": "code",
   "execution_count": 41,
   "metadata": {
    "tags": []
   },
   "outputs": [
    {
     "output_type": "stream",
     "name": "stdout",
     "text": "utterances type :  <class 'list'>\nutterances len :  7\nkey :  candidates\n0 : my mom was single with 3 boys , so we never left the projects .\n1 : i try to wear all black every day . it makes me feel comfortable .\n2 : well nursing stresses you out so i wish luck with sister\n3 : yeah just want to pick up nba nfl getting old\n4 : i really like celine dion . what about you ?\n5 : no . i live near farms .\n6 : i wish i had a daughter , i'm a boy mom . they're beautiful boys though still lucky\n7 : yeah when i get bored i play gone with the wind my favorite movie .\n8 : hi how are you ? i'm eating dinner with my hubby and 2 kids .\n9 : were you married to your high school sweetheart ? i was .\n10 : that is great to hear ! are you a competitive rider ?\n11 : hi , i'm doing ok . i'm a banker . how about you ?\n12 : i'm 5 years old\n13 : hi there . how are you today ?\n14 : i totally understand how stressful that can be .\n15 : yeah sometimes you do not know what you are actually watching\n16 : mother taught me to cook ! we are looking for an exterminator .\n17 : i enjoy romantic movie . what is your favorite season ? mine is summer .\n18 : editing photos takes a lot of work .\n19 : you must be very fast . hunting is one of my favorite hobbies .\nkey :  history\n0 : hi , how are you doing ? i'm getting ready to do some cheetah chasing to stay in shape .\n"
    }
   ],
   "source": [
    "    # train\n",
    "    print('utterances type : ', type(json_data['train'][0]['utterances']))\n",
    "    print('utterances len : ', len(json_data['train'][0]['utterances']))\n",
    "\n",
    "    for key, value in json_data['train'][0]['utterances'][0].items():\n",
    "        print('key : ', key)\n",
    "        for index, string in enumerate(value):\n",
    "            print('%d : %s' % (index, string))"
   ]
  },
  {
   "cell_type": "code",
   "execution_count": 43,
   "metadata": {
    "tags": []
   },
   "outputs": [
    {
     "output_type": "stream",
     "name": "stdout",
     "text": "utterances type :  <class 'list'>\nutterances len :  7\nkey :  candidates\n0 : my mom was single with 3 boys , so we never left the projects .\n1 : i try to wear all black every day . it makes me feel comfortable .\n2 : well nursing stresses you out so i wish luck with sister\n3 : yeah just want to pick up nba nfl getting old\n4 : i really like celine dion . what about you ?\n5 : no . i live near farms .\n6 : i wish i had a daughter , i'm a boy mom . they're beautiful boys though still lucky\n7 : yeah when i get bored i play gone with the wind my favorite movie .\n8 : hi how are you ? i'm eating dinner with my hubby and 2 kids .\n9 : were you married to your high school sweetheart ? i was .\n10 : that is great to hear ! are you a competitive rider ?\n11 : hi , i'm doing ok . i'm a banker . how about you ?\n12 : i'm 5 years old\n13 : hi there . how are you today ?\n14 : i totally understand how stressful that can be .\n15 : yeah sometimes you do not know what you are actually watching\n16 : mother taught me to cook ! we are looking for an exterminator .\n17 : i enjoy romantic movie . what is your favorite season ? mine is summer .\n18 : editing photos takes a lot of work .\n19 : you must be very fast . hunting is one of my favorite hobbies .\nkey :  history\n0 : hi , how are you doing ? i'm getting ready to do some cheetah chasing to stay in shape .\n\n\nkey :  candidates\n0 : hello i am doing well how are you ?\n1 : ll something like that . do you play games ?\n2 : does anything give you relief ? i hate taking medicine for mine .\n3 : i decorate cakes at a local bakery ! and you ?\n4 : do you eat lots of meat\n5 : i am so weird that i like to collect people and cats\n6 : how are your typing skills ?\n7 : yeah . i am headed to the gym in a bit to weight lift .\n8 : yeah you have plenty of time\n9 : metal is my favorite , but i can accept that people listen to country . haha\n10 : that's why you desire to be controlled . let me control you person one .\n11 : two dogs they are the best , how about you ?\n12 : you do art ? what kind of art do you do ?\n13 : i love watching baseball outdoors on sunny days .\n14 : oh i see . do you ever think about moving ? i do , it is what i want .\n15 : sure . i wish it were winter . the sun really hurts my blue eyes .\n16 : are we pretending to play tennis\n17 : i am rich and have all of my dreams fulfilled already\n18 : they tire me so , i probably sleep about 10 hrs a day because of them .\n19 : i also remodel homes when i am not out bow hunting .\nkey :  history\n0 : hi , how are you doing ? i'm getting ready to do some cheetah chasing to stay in shape .\n1 : you must be very fast . hunting is one of my favorite hobbies .\n2 : i am ! for my hobby i like to do canning or some whittling .\n\n\nkey :  candidates\n0 : yes they do but i say no to them lol\n1 : i have trouble getting along with family .\n2 : i live in texas , what kind of stuff do you do in toronto ?\n3 : that's so unique ! veganism and line dancing usually don't mix !\n4 : no , it isn't that big . do you travel a lot\n5 : that's because they are real ; what do you do for work ?\n6 : i am lazy all day lol . my mom wants me to get a job and move out\n7 : i was born on arbor day , so plant a tree in my name\n8 : okay , i should not tell you , its against the rules but my name is sarah , call me o\n9 : hello how are u tonight\n10 : cool . . . my parents love country music that's why i hate it\n11 : i am an accountant . what do you do ?\n12 : what do your parents do ? my dad is a mechanic .\n13 : how are you liking it ?\n14 : i really am too . great talking to you too .\n15 : cool . whats it like working there ?\n16 : one daughter . she's pre med\n17 : no and all men is taller than me why can't i find a man to dance with\n18 : i live in utah , and my family live in england , so i understand\n19 : that's awesome . do you have a favorite season or time of year ?\nkey :  history\n0 : hi , how are you doing ? i'm getting ready to do some cheetah chasing to stay in shape .\n1 : you must be very fast . hunting is one of my favorite hobbies .\n2 : i am ! for my hobby i like to do canning or some whittling .\n3 : i also remodel homes when i am not out bow hunting .\n4 : that's neat . when i was in high school i placed 6th in 100m dash !\n\n\nkey :  candidates\n0 : not really , it is just a small local radio station . what about you , what do you do ?\n1 : me too ! people always say i am so organized\n2 : niagra fall is where our honeymoon will be\n3 : yes ! i know how to be by myself . you ? i do not need new friends . you ?\n4 : ll . my dad is a police officer and they have a sports team too\n5 : oh you should get your license\n6 : okay you have a good day nice talking with you !\n7 : i play some ball for a living .\n8 : me too ! my asthma is really embarrassing and makes me uncomfortable around others .\n9 : netflix and good food is the best . maybe lobster , my favorite seafood . where ya from ?\n10 : oh nice . why is that ?\n11 : sounds fun ! i helped my wife with health issues , too .\n12 : i am a night owl . i think i'll play the piano a little before bed .\n13 : just the real ones , not a big game person\n14 : i could be the next mrs . adam levine . please , i'll buy you 10 mangoes .\n15 : do you like dogs i've usually to talk\n16 : what did she teach ? my mom stayed home with my and my 3 older siblings\n17 : neither do i , i am just a photographer , and that is already a ot of energy\n18 : no , i say i am average at 5 4 . are you vertically challenged ?\n19 : what is your favorite meat to eat ?\nkey :  history\n0 : hi , how are you doing ? i'm getting ready to do some cheetah chasing to stay in shape .\n1 : you must be very fast . hunting is one of my favorite hobbies .\n2 : i am ! for my hobby i like to do canning or some whittling .\n3 : i also remodel homes when i am not out bow hunting .\n4 : that's neat . when i was in high school i placed 6th in 100m dash !\n5 : that's awesome . do you have a favorite season or time of year ?\n6 : i do not . but i do have a favorite meat since that is all i eat exclusively .\n\n\nkey :  candidates\n0 : i am listening to system of a down , i wonder if your cat would like them\n1 : i absolutely agree , women are just as strong and capable .\n2 : in denmark with my grandma . what about you ?\n3 : i live in backcountry michigan . i encounter many sick , injured wildlife daily !\n4 : i am great and you\n5 : i am a big foodie , i love to bake . how about you ?\n6 : dance ! ! i win alot of mone and trifies . . what do u do four fun ?\n7 : do you do any sports ? swimming helps me keep my energy up .\n8 : they are excellent for the environment .\n9 : i am going to catch some fish and think this over . thanks dog !\n10 : i am doing well ! how about you ?\n11 : i like old cars better new cars are to expensive\n12 : i've met bill once . he seems like a nice guy .\n13 : oh that is amazing . i've been trying to find someone who can help him\n14 : i am in my early 30s , what you do for living\n15 : so , you are in college ? i took foreign language in college .\n16 : i just turned 30 the other day\n17 : what a coincidence i live up in anchorage\n18 : that would be interesting . i am going to be a forensic psychologist .\n19 : i like chicken or macaroni and cheese .\nkey :  history\n0 : hi , how are you doing ? i'm getting ready to do some cheetah chasing to stay in shape .\n1 : you must be very fast . hunting is one of my favorite hobbies .\n2 : i am ! for my hobby i like to do canning or some whittling .\n3 : i also remodel homes when i am not out bow hunting .\n4 : that's neat . when i was in high school i placed 6th in 100m dash !\n5 : that's awesome . do you have a favorite season or time of year ?\n6 : i do not . but i do have a favorite meat since that is all i eat exclusively .\n7 : what is your favorite meat to eat ?\n8 : i would have to say its prime rib . do you have any favorite foods ?\n\n\nkey :  candidates\n0 : that sounds nice . do you make your own ?\n1 : i had a simple lunch so that i make my supper heavy after beach .\n2 : nice i may be able to beat you my hair is bright purple\n3 : not really i am kind of an introvert\n4 : well currently i am going to the university of chicago to obtain a law degree\n5 : also , my parents came with me , because they are on a break from teaching !\n6 : oh , i am sorry . want to come play tennis with my two sisters and me ?\n7 : wow ! 2 sons . john and wayne . you play guitar good ?\n8 : what do you do all day then ?\n9 : i work from home , what about you ?\n10 : that is no good . have glasses ?\n11 : just chilling . watching netflix . so what are you reading ?\n12 : i love food too . especially fine dining .\n13 : what do you like to watch ?\n14 : i do not have to work anymore , thank goodness\n15 : no , not really . i am in kansas .\n16 : i love movies . especially disney .\n17 : no i do not . what kinds of dogs do you have\n18 : they won't , but i'll someday . what are you hobbies ?\n19 : i am going to watch football . what are you canning ?\nkey :  history\n0 : hi , how are you doing ? i'm getting ready to do some cheetah chasing to stay in shape .\n1 : you must be very fast . hunting is one of my favorite hobbies .\n2 : i am ! for my hobby i like to do canning or some whittling .\n3 : i also remodel homes when i am not out bow hunting .\n4 : that's neat . when i was in high school i placed 6th in 100m dash !\n5 : that's awesome . do you have a favorite season or time of year ?\n6 : i do not . but i do have a favorite meat since that is all i eat exclusively .\n7 : what is your favorite meat to eat ?\n8 : i would have to say its prime rib . do you have any favorite foods ?\n9 : i like chicken or macaroni and cheese .\n10 : do you have anything planned for today ? i think i am going to do some canning .\n\n\nkey :  candidates\n0 : awesome . so what do you do for a living ?\n1 : you are telling the truth lol\n2 : haha yea i love cookies . i sleep way to much to . you like music ?\n3 : that is nice to know . i travel due to being financially stable .\n4 : i am sure you can . california is full of opportunities .\n5 : they're fun . i also wanted to be a rock star as i love the music .\n6 : you need a hobby something you can do in small segments at night\n7 : hi , i love halloween , so what do you like to do for fun ?\n8 : is that a long movie ? few hours ? that is what i spend at the pool\n9 : tennis sounds interesting ! yes , i am ! how about you ?\n10 : very well , thank you . how are you today ?\n11 : i like a cashier at my bank . i stare at her at a distance to flirt .\n12 : yes . thank you for the chat .\n13 : that is super sweet , high school sweetheart kind of thing\n14 : hey . my favorite color is pink . how about you ?\n15 : nice ! i don't go out much because i am busy at my accounting job .\n16 : oh my gosh i don't know what i'd do if i had to get a job !\n17 : that would still be buying it online !\n18 : was okay . dog woke me up and just getting ready for a date .\n19 : if i have time outside of hunting and remodeling homes . which is not much !\nkey :  history\n0 : hi , how are you doing ? i'm getting ready to do some cheetah chasing to stay in shape .\n1 : you must be very fast . hunting is one of my favorite hobbies .\n2 : i am ! for my hobby i like to do canning or some whittling .\n3 : i also remodel homes when i am not out bow hunting .\n4 : that's neat . when i was in high school i placed 6th in 100m dash !\n5 : that's awesome . do you have a favorite season or time of year ?\n6 : i do not . but i do have a favorite meat since that is all i eat exclusively .\n7 : what is your favorite meat to eat ?\n8 : i would have to say its prime rib . do you have any favorite foods ?\n9 : i like chicken or macaroni and cheese .\n10 : do you have anything planned for today ? i think i am going to do some canning .\n11 : i am going to watch football . what are you canning ?\n12 : i think i will can some jam . do you also play footfall for fun ?\n\n\n"
    }
   ],
   "source": [
    "    print('utterances type : ', type(json_data['train'][0]['utterances']))\n",
    "    print('utterances len : ', len(json_data['train'][0]['utterances']))\n",
    "\n",
    "    for utter in json_data['train'][0]['utterances']:\n",
    "        for key, value in utter.items():\n",
    "            print('key : ', key)\n",
    "            for index, string in enumerate(value):\n",
    "                print('%d : %s' % (index, string))\n",
    "        print('\\n')"
   ]
  },
  {
   "cell_type": "code",
   "execution_count": null,
   "metadata": {},
   "outputs": [],
   "source": []
  }
 ]
}